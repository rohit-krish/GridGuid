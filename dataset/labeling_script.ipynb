{
 "cells": [
  {
   "cell_type": "code",
   "execution_count": 1,
   "metadata": {},
   "outputs": [],
   "source": [
    "import os\n",
    "import cv2\n",
    "import shutil\n",
    "import matplotlib.pyplot as plt\n"
   ]
  },
  {
   "attachments": {},
   "cell_type": "markdown",
   "metadata": {},
   "source": [
    "#### Labelling Script"
   ]
  },
  {
   "cell_type": "code",
   "execution_count": null,
   "metadata": {},
   "outputs": [],
   "source": [
    "base_path = '../../model building/collect-data/uploaded-images/'\n",
    "all_box_imgs = os.listdir(base_path)\n",
    "\n",
    "for box in all_box_imgs:\n",
    "    img = cv2.imread(base_path+box)\n",
    "    img_big = cv2.resize(img, (350, 350))\n",
    "    cv2.imshow('box_big', img_big)\n",
    "    cv2.imshow('box', img)\n",
    "\n",
    "    key = cv2.waitKey(0)\n",
    "    if key == ord('q'):\n",
    "        cv2.destroyAllWindows()\n",
    "        break\n",
    "    # elif key == ord('f'):\n",
    "    #     print('waiting..')\n",
    "    #     digit = chr(cv2.waitKey(0))\n",
    "    #     shutil.move(base_path+box, f'./{digit}/f1.{box}')\n",
    "    #     print(f'./{digit}/f1.{box}')\n",
    "    elif chr(key).isnumeric():\n",
    "        shutil.move(base_path+box, f'./{chr(key)}/{box}')\n",
    "        print(f'./{chr(key)}/{box}')\n",
    "\n",
    "cv2.destroyAllWindows()"
   ]
  },
  {
   "attachments": {},
   "cell_type": "markdown",
   "metadata": {},
   "source": [
    "#### Visualizing the Distribution"
   ]
  },
  {
   "cell_type": "code",
   "execution_count": 40,
   "metadata": {},
   "outputs": [
    {
     "name": "stdout",
     "output_type": "stream",
     "text": [
      "0 482\n",
      "1 491\n",
      "2 456\n",
      "3 482\n",
      "4 495\n",
      "5 505\n",
      "6 510\n",
      "7 506\n",
      "8 507\n",
      "9 467\n"
     ]
    },
    {
     "data": {
      "image/png": "[encoded data removed]",
      "text/plain": [
       "<Figure size 640x480 with 1 Axes>"
      ]
     },
     "metadata": {},
     "output_type": "display_data"
    }
   ],
   "source": [
    "bins = []\n",
    "total = 0\n",
    "\n",
    "for i in range(10):\n",
    "    count = len(os.listdir(f'./data/{i}'))\n",
    "    total += count\n",
    "    bins.append(count)\n",
    "    print(i, count)\n",
    "\n",
    "plt.bar(range(10), bins)\n",
    "plt.title(f'Total: {total}')\n",
    "\n",
    "plt.show()\n"
   ]
  },
  {
   "attachments": {},
   "cell_type": "markdown",
   "metadata": {},
   "source": [
    "#### putting flip token in fliped image of labelled data"
   ]
  },
  {
   "cell_type": "code",
   "execution_count": 20,
   "metadata": {},
   "outputs": [
    {
     "data": {
      "text/plain": [
       "'done'"
      ]
     },
     "execution_count": 20,
     "metadata": {},
     "output_type": "execute_result"
    }
   ],
   "source": [
    "which = 9\n",
    "\n",
    "for box_img in os.listdir(f'./{which}'):\n",
    "    box = cv2.imread(f'./{which}/{box_img}')\n",
    "    box_big = cv2.resize(box, (700, 700))\n",
    "\n",
    "    if 'f1.' in f'./{which}/{box_img}':\n",
    "        continue\n",
    "\n",
    "    cv2.imshow('box', box)\n",
    "    cv2.imshow('box_big', box_big)\n",
    "\n",
    "    key = cv2.waitKey(0)\n",
    "\n",
    "    if key == ord('q'):\n",
    "        cv2.destroyAllWindows()\n",
    "        break\n",
    "    elif key == ord('f'):\n",
    "        shutil.move(f'./{which}/{box_img}', f'./{which}/f1.{box_img}')\n",
    "        print(f'./{which}/f1.{box_img}')\n",
    "\n",
    "cv2.destroyAllWindows()\n",
    "'done'"
   ]
  }
 ],
 "metadata": {
  "kernelspec": {
   "display_name": "Python 3",
   "language": "python",
   "name": "python3"
  },
  "language_info": {
   "codemirror_mode": {
    "name": "ipython",
    "version": 3
   },
   "file_extension": ".py",
   "mimetype": "text/x-python",
   "name": "python",
   "nbconvert_exporter": "python",
   "pygments_lexer": "ipython3",
   "version": "3.10.9"
  },
  "orig_nbformat": 4,
  "vscode": {
   "interpreter": {
    "hash": "8a94588eda9d64d9e9a351ab8144e55b1fabf5113b54e67dd26a8c27df0381b3"
   }
  }
 },
 "nbformat": 4,
 "nbformat_minor": 2
}
